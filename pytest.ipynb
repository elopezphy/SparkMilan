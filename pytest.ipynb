{
    "nbformat_minor": 1, 
    "cells": [
        {
            "execution_count": 1, 
            "cell_type": "code", 
            "metadata": {}, 
            "outputs": [], 
            "source": "#Import statements \nimport sys \nfrom random import random \nfrom operator import add \nfrom pyspark import SparkContext "
        }, 
        {
            "execution_count": 6, 
            "cell_type": "code", 
            "metadata": {}, 
            "outputs": [
                {
                    "output_type": "stream", 
                    "name": "stdout", 
                    "text": "Pi is roughly 3.143220\n"
                }
            ], 
            "source": "n = 100000 * 4\ndef f(_):\n   x = random() * 2 - 1 \n   y = random() * 2 - 1 \n   return 1 if x ** 2 + y ** 2 < 1 else 0 \ncount = sc.parallelize(xrange(1,n + 1), 4).map(f).reduce(add)\nprint \"Pi is roughly %f\" % (4.0 * count / n) "
        }, 
        {
            "execution_count": null, 
            "cell_type": "code", 
            "metadata": {}, 
            "outputs": [], 
            "source": ""
        }
    ], 
    "metadata": {
        "kernelspec": {
            "display_name": "Python 2 with Spark 2.1", 
            "name": "python2-spark21", 
            "language": "python"
        }, 
        "language_info": {
            "mimetype": "text/x-python", 
            "nbconvert_exporter": "python", 
            "version": "2.7.11", 
            "name": "python", 
            "file_extension": ".py", 
            "pygments_lexer": "ipython2", 
            "codemirror_mode": {
                "version": 2, 
                "name": "ipython"
            }
        }
    }, 
    "nbformat": 4
}